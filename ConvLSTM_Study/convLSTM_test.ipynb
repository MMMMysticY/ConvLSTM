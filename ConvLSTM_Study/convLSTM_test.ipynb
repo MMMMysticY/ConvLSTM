{
 "cells": [
  {
   "cell_type": "code",
   "execution_count": 1,
   "metadata": {
    "collapsed": true
   },
   "outputs": [],
   "source": [
    "\n",
    "import torch\n",
    "from convlstm import ConvLSTM"
   ]
  },
  {
   "cell_type": "code",
   "execution_count": 2,
   "outputs": [],
   "source": [
    "model = ConvLSTM(input_dim=3, hidden_dim=[64,32], kernel_size=(3,3), num_layers=2,\n",
    "                 batch_first=True, bias=True, return_all_layers=False)\n",
    "# time_stamp(seq_len) = 5 batch_size = 8 channel = 3 height = 32 width = 16\n",
    "input = torch.rand(8,5,3,108,256)"
   ],
   "metadata": {
    "collapsed": false,
    "pycharm": {
     "name": "#%%\n"
    }
   }
  },
  {
   "cell_type": "code",
   "execution_count": 3,
   "outputs": [
    {
     "name": "stdout",
     "output_type": "stream",
     "text": [
      "input_tensor_dim: torch.Size([8, 5, 3, 108, 256])\n",
      "in layer 0 the tensor shape:\n",
      "torch.Size([8, 5, 3, 108, 256])\n",
      "h_next,c_next维度是：\n",
      "torch.Size([8, 64, 108, 256])\n",
      "torch.Size([8, 64, 108, 256])\n",
      "h_next,c_next维度是：\n",
      "torch.Size([8, 64, 108, 256])\n",
      "torch.Size([8, 64, 108, 256])\n",
      "h_next,c_next维度是：\n",
      "torch.Size([8, 64, 108, 256])\n",
      "torch.Size([8, 64, 108, 256])\n",
      "h_next,c_next维度是：\n",
      "torch.Size([8, 64, 108, 256])\n",
      "torch.Size([8, 64, 108, 256])\n",
      "h_next,c_next维度是：\n",
      "torch.Size([8, 64, 108, 256])\n",
      "torch.Size([8, 64, 108, 256])\n",
      "output_inner的长度是： 5\n",
      "每个output_inner的维度是 8\n",
      "c_n h_n的维度是：\n",
      "torch.Size([64, 108, 256])\n",
      "torch.Size([64, 108, 256])\n",
      "in layer 1 the tensor shape:\n",
      "torch.Size([8, 5, 64, 108, 256])\n",
      "h_next,c_next维度是：\n",
      "torch.Size([8, 32, 108, 256])\n",
      "torch.Size([8, 32, 108, 256])\n",
      "h_next,c_next维度是：\n",
      "torch.Size([8, 32, 108, 256])\n",
      "torch.Size([8, 32, 108, 256])\n",
      "h_next,c_next维度是：\n",
      "torch.Size([8, 32, 108, 256])\n",
      "torch.Size([8, 32, 108, 256])\n",
      "h_next,c_next维度是：\n",
      "torch.Size([8, 32, 108, 256])\n",
      "torch.Size([8, 32, 108, 256])\n",
      "h_next,c_next维度是：\n",
      "torch.Size([8, 32, 108, 256])\n",
      "torch.Size([8, 32, 108, 256])\n",
      "output_inner的长度是： 5\n",
      "每个output_inner的维度是 8\n",
      "c_n h_n的维度是：\n",
      "torch.Size([32, 108, 256])\n",
      "torch.Size([32, 108, 256])\n"
     ]
    }
   ],
   "source": [
    "output = model(input)"
   ],
   "metadata": {
    "collapsed": false,
    "pycharm": {
     "name": "#%%\n"
    }
   }
  }
 ],
 "metadata": {
  "kernelspec": {
   "display_name": "Python 3",
   "language": "python",
   "name": "python3"
  },
  "language_info": {
   "codemirror_mode": {
    "name": "ipython",
    "version": 2
   },
   "file_extension": ".py",
   "mimetype": "text/x-python",
   "name": "python",
   "nbconvert_exporter": "python",
   "pygments_lexer": "ipython2",
   "version": "2.7.6"
  }
 },
 "nbformat": 4,
 "nbformat_minor": 0
}